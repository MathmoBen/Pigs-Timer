{
 "cells": [
  {
   "cell_type": "markdown",
   "id": "21c8b256",
   "metadata": {},
   "source": [
    "# Pigs timer"
   ]
  },
  {
   "cell_type": "markdown",
   "id": "b7de00a3",
   "metadata": {},
   "source": [
    "This is a first attempt at some code for a pass-the-pigs timer."
   ]
  },
  {
   "cell_type": "code",
   "execution_count": null,
   "id": "a3542806",
   "metadata": {},
   "outputs": [],
   "source": [
    "# some module imports\n",
    "\n",
    "import time\n",
    "import random\n",
    "import math"
   ]
  },
  {
   "cell_type": "code",
   "execution_count": null,
   "id": "ec3a439c",
   "metadata": {},
   "outputs": [],
   "source": [
    "# first version accepting time in seconds\n",
    "\n",
    "def countdown_timer(mean, variance):\n",
    "    # Draw a period from a normal distribution with the given mean and variance\n",
    "    standard_deviation = math.sqrt(variance)\n",
    "    period = random.gauss(mean, standard_deviation)\n",
    "    \n",
    "    # Ensure the period is a positive value\n",
    "    period = max(0, period)\n",
    "    \n",
    "    # Start the countdown timer\n",
    "    print(f\"Countdown starts for {period:.2f} seconds.\")\n",
    "    while period > 0:\n",
    "        mins, secs = divmod(period, 60)\n",
    "        timer = '{:02d}:{:05.2f}'.format(int(mins), secs)\n",
    "        print(timer, end=\"\\r\")\n",
    "        time.sleep(0.01)  # sleep for 10 milliseconds\n",
    "        period -= 0.01\n",
    "\n",
    "    print(\"Time's up!\")\n",
    "\n",
    "# Example usage:\n",
    "mean = 10  # Mean time in seconds\n",
    "variance = 4  # Variance in seconds^2\n",
    "countdown_timer(mean, variance)\n"
   ]
  },
  {
   "cell_type": "markdown",
   "id": "406661ba",
   "metadata": {},
   "source": [
    "## Repeating version"
   ]
  },
  {
   "cell_type": "markdown",
   "id": "0578d973",
   "metadata": {},
   "source": [
    "This is an attempt at a version that restarts as soon as the old one has ended."
   ]
  },
  {
   "cell_type": "code",
   "execution_count": null,
   "id": "fe2ab3b0",
   "metadata": {},
   "outputs": [],
   "source": [
    "def countdown_timer(mean, variance):\n",
    "    while 1 == 1:\n",
    "        # Draw a period from a normal distribution with the given mean and variance\n",
    "        standard_deviation = math.sqrt(variance)\n",
    "        period = random.gauss(mean, standard_deviation)\n",
    "    \n",
    "        # Ensure the period is a positive value\n",
    "        period = max(0, period)\n",
    "    \n",
    "        # Start the countdown timer\n",
    "        print(f\"Countdown starts for {period:.2f} seconds.\")\n",
    "        while period > 0:\n",
    "            mins, secs = divmod(period, 60)\n",
    "            timer = '{:02d}:{:05.2f}'.format(int(mins), secs)\n",
    "            print(timer, end=\"\\r\")\n",
    "            time.sleep(0.01)  # sleep for 10 milliseconds\n",
    "            period -= 0.01\n",
    "\n",
    "        print(\"Time's up!\")"
   ]
  },
  {
   "cell_type": "code",
   "execution_count": null,
   "id": "3282f0c6",
   "metadata": {},
   "outputs": [],
   "source": [
    "# Example of its use\n",
    "\n",
    "countdown_timer(10, 4)"
   ]
  },
  {
   "cell_type": "code",
   "execution_count": null,
   "id": "fd4ba81a",
   "metadata": {},
   "outputs": [],
   "source": []
  }
 ],
 "metadata": {
  "kernelspec": {
   "display_name": "Python 3 (ipykernel)",
   "language": "python",
   "name": "python3"
  },
  "language_info": {
   "codemirror_mode": {
    "name": "ipython",
    "version": 3
   },
   "file_extension": ".py",
   "mimetype": "text/x-python",
   "name": "python",
   "nbconvert_exporter": "python",
   "pygments_lexer": "ipython3",
   "version": "3.11.3"
  }
 },
 "nbformat": 4,
 "nbformat_minor": 5
}
