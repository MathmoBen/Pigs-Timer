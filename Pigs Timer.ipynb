{
 "cells": [
  {
   "cell_type": "markdown",
   "id": "4ac74b30",
   "metadata": {},
   "source": [
    "# Pigs timer"
   ]
  },
  {
   "cell_type": "markdown",
   "id": "77d680fb",
   "metadata": {},
   "source": [
    "This is a first attempt at some code for a pass-the-pigs timer."
   ]
  },
  {
   "cell_type": "code",
   "execution_count": null,
   "id": "d63a3b0a",
   "metadata": {},
   "outputs": [],
   "source": [
    "# some module imports\n",
    "\n",
    "import time\n",
    "import random\n",
    "import math"
   ]
  },
  {
   "cell_type": "code",
   "execution_count": null,
   "id": "785f025e",
   "metadata": {},
   "outputs": [],
   "source": [
    "# first version accepting time in seconds\n",
    "\n",
    "def countdown_timer(mean, variance):\n",
    "    # Draw a period from a normal distribution with the given mean and variance\n",
    "    standard_deviation = math.sqrt(variance)\n",
    "    period = random.gauss(mean, standard_deviation)\n",
    "    \n",
    "    # Ensure the period is a positive value\n",
    "    period = max(0, period)\n",
    "    \n",
    "    # Start the countdown timer\n",
    "    print(f\"Countdown starts for {period:.2f} seconds.\")\n",
    "    while period > 0:\n",
    "        mins, secs = divmod(period, 60)\n",
    "        timer = '{:02d}:{:05.2f}'.format(int(mins), secs)\n",
    "        print(timer, end=\"\\r\")\n",
    "        time.sleep(0.01)  # sleep for 10 milliseconds\n",
    "        period -= 0.01\n",
    "\n",
    "    print(\"Time's up!\")\n",
    "\n",
    "# Example usage:\n",
    "mean = 10  # Mean time in seconds\n",
    "variance = 4  # Variance in seconds^2\n",
    "countdown_timer(mean, variance)\n"
   ]
  },
  {
   "cell_type": "code",
   "execution_count": null,
   "id": "a48e6ab6",
   "metadata": {},
   "outputs": [],
   "source": [
    "countdown_timer(mean, variance)"
   ]
  },
  {
   "cell_type": "code",
   "execution_count": null,
   "id": "e3202879",
   "metadata": {},
   "outputs": [],
   "source": [
    "# second version accepting results in minutes\n",
    "\n",
    "def countdown_timer_mins(mean, variance):\n",
    "    mean_mins = mean*60\n",
    "    var_mins = variance*60\n",
    "    # Draw a period from a normal distribution with the given mean and variance\n",
    "    standard_deviation = math.sqrt(var_mins)\n",
    "    period = random.gauss(mean_mins, standard_deviation)\n",
    "    \n",
    "    # Ensure the period is a positive value\n",
    "    period = max(0, period)\n",
    "    \n",
    "    # Start the countdown timer\n",
    "    print(f\"Countdown starts for {period:.2f} seconds.\")\n",
    "    while period > 0:\n",
    "        mins, secs = divmod(period, 60)\n",
    "        timer = '{:02d}:{:05.2f}'.format(int(mins), secs)\n",
    "        print(timer, end=\"\\r\")\n",
    "        time.sleep(0.01)  # sleep for 10 milliseconds\n",
    "        period -= 0.01\n",
    "\n",
    "    print(\"Time's up!\")\n",
    "\n",
    "# Example usage:\n",
    "mean = 2  # Mean time in seconds\n",
    "variance = 1  # Variance in seconds^2\n",
    "countdown_timer_mins(mean, variance)\n"
   ]
  },
  {
   "cell_type": "code",
   "execution_count": null,
   "id": "c20946d6",
   "metadata": {},
   "outputs": [],
   "source": []
  }
 ],
 "metadata": {
  "kernelspec": {
   "display_name": "Python 3 (ipykernel)",
   "language": "python",
   "name": "python3"
  },
  "language_info": {
   "codemirror_mode": {
    "name": "ipython",
    "version": 3
   },
   "file_extension": ".py",
   "mimetype": "text/x-python",
   "name": "python",
   "nbconvert_exporter": "python",
   "pygments_lexer": "ipython3",
   "version": "3.11.3"
  }
 },
 "nbformat": 4,
 "nbformat_minor": 5
}
